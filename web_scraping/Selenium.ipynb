{
 "cells": [
  {
   "cell_type": "code",
   "execution_count": 1,
   "metadata": {
    "collapsed": true
   },
   "outputs": [],
   "source": [
    "from bs4 import BeautifulSoup\n",
    "from selenium import webdriver\n",
    "import pandas as pd\n",
    "import numpy as np\n",
    "import requests\n",
    "import os\n",
    "import re"
   ]
  },
  {
   "cell_type": "markdown",
   "metadata": {},
   "source": [
    "__Problem:__\n",
    "\n",
    "Websites with relevant information sometimes 'comment out' their data. This makes the data inaccessible via traditional scraping methods.\n",
    "\n",
    "This will be demonstrated by trying to scrape the relief pitching statistics for the 2017 Major League Baseball (MLB) season. We will first try via Beautiful Soup and then use Selenium, which is a remote web browser that can be launched using Python."
   ]
  },
  {
   "cell_type": "markdown",
   "metadata": {},
   "source": [
    "Lets first try to get table with Pandas read_html method. The read_html method has a parameter 'match' that is passed in as string / regex. Tables containing this string are returned. If no string is used then all tables (if they exist) will be returned. It should be noted that the pandas_html function returns a list equal to the number of tables found, this is true even if 1 table is found.\n",
    "\n",
    "The table that we are trying to scrape is the 2nd one on the page. We are going use 'Age' as the match parameter as it is one of the headers in the 2nd table and is not contained in the 1st table."
   ]
  },
  {
   "cell_type": "code",
   "execution_count": 2,
   "metadata": {
    "collapsed": true
   },
   "outputs": [],
   "source": [
    "url = 'https://www.baseball-reference.com/leagues/MLB/2017-reliever-pitching.shtml'"
   ]
  },
  {
   "cell_type": "code",
   "execution_count": 3,
   "metadata": {
    "collapsed": true
   },
   "outputs": [],
   "source": [
    "req0 = requests.get(url=url)\n",
    "soup = BeautifulSoup(req0.text, 'lxml')\n",
    "tbl0 = soup.select('table')"
   ]
  },
  {
   "cell_type": "code",
   "execution_count": 4,
   "metadata": {},
   "outputs": [
    {
     "name": "stdout",
     "output_type": "stream",
     "text": [
      "Error encountered: No tables found matching pattern 'Age'\n"
     ]
    }
   ],
   "source": [
    "try:\n",
    "    df0 = pd.read_html(str(tbl0), match='Age')\n",
    "    if len(df0) == 1:\n",
    "        df0 = df0[0]\n",
    "        print('Only one table found and it has {} rows'.format(len(d)))\n",
    "    else:\n",
    "        print('more than one table available, try using the match parameter')\n",
    "except ValueError as v:\n",
    "    print('Error encountered: {}'.format(v))"
   ]
  },
  {
   "cell_type": "markdown",
   "metadata": {},
   "source": [
    "As is shown by the error, no tables were found that contained 'Age'. To make sure that we are not in error I will drop the 'Age' term which effectively tells the function to output all the tables on the url. From visual inspection we know that there are at least 2 tables available. Therefore the list that is returned should be at least of length 2."
   ]
  },
  {
   "cell_type": "code",
   "execution_count": 5,
   "metadata": {},
   "outputs": [
    {
     "name": "stdout",
     "output_type": "stream",
     "text": [
      "Only one table found and it has 32 rows\n"
     ]
    }
   ],
   "source": [
    "df1 = pd.read_html(str(tbl0))\n",
    "if len(df1) == 1:\n",
    "    df1 = df1[0]\n",
    "    print('Only one table found and it has {} rows'.format(len(df1)))\n",
    "else:\n",
    "    print('more than one table available, try using the match parameter')"
   ]
  },
  {
   "cell_type": "markdown",
   "metadata": {},
   "source": [
    "This returns only one table and it is quite small leading us to believe that it found only the 1st table which consists of team by team relief statistics. Let's make sure by viewing the first and last 3 rows of the returned dataframe."
   ]
  },
  {
   "cell_type": "code",
   "execution_count": 6,
   "metadata": {},
   "outputs": [
    {
     "data": {
      "text/html": [
       "<div>\n",
       "<style>\n",
       "    .dataframe thead tr:only-child th {\n",
       "        text-align: right;\n",
       "    }\n",
       "\n",
       "    .dataframe thead th {\n",
       "        text-align: left;\n",
       "    }\n",
       "\n",
       "    .dataframe tbody tr th {\n",
       "        vertical-align: top;\n",
       "    }\n",
       "</style>\n",
       "<table border=\"1\" class=\"dataframe\">\n",
       "  <thead>\n",
       "    <tr style=\"text-align: right;\">\n",
       "      <th></th>\n",
       "      <th>Tm</th>\n",
       "      <th>RA/G</th>\n",
       "      <th>G</th>\n",
       "      <th>GR</th>\n",
       "      <th>GF</th>\n",
       "      <th>Wgr</th>\n",
       "      <th>Lgr</th>\n",
       "      <th>SVOpp</th>\n",
       "      <th>SV</th>\n",
       "      <th>BSv</th>\n",
       "      <th>...</th>\n",
       "      <th>Tie</th>\n",
       "      <th>Bhd</th>\n",
       "      <th>Runr</th>\n",
       "      <th>Empt</th>\n",
       "      <th>&gt;3o</th>\n",
       "      <th>&lt;3o</th>\n",
       "      <th>IPmult</th>\n",
       "      <th>0DR</th>\n",
       "      <th>Out/GR</th>\n",
       "      <th>Pit/GR</th>\n",
       "    </tr>\n",
       "  </thead>\n",
       "  <tbody>\n",
       "    <tr>\n",
       "      <th>0</th>\n",
       "      <td>ARI</td>\n",
       "      <td>4.07</td>\n",
       "      <td>162</td>\n",
       "      <td>514</td>\n",
       "      <td>160</td>\n",
       "      <td>27</td>\n",
       "      <td>18</td>\n",
       "      <td>63</td>\n",
       "      <td>43</td>\n",
       "      <td>20</td>\n",
       "      <td>...</td>\n",
       "      <td>69</td>\n",
       "      <td>185</td>\n",
       "      <td>162</td>\n",
       "      <td>352</td>\n",
       "      <td>97</td>\n",
       "      <td>186</td>\n",
       "      <td>120</td>\n",
       "      <td>116</td>\n",
       "      <td>2.9</td>\n",
       "      <td>16</td>\n",
       "    </tr>\n",
       "    <tr>\n",
       "      <th>1</th>\n",
       "      <td>ATL</td>\n",
       "      <td>5.07</td>\n",
       "      <td>162</td>\n",
       "      <td>530</td>\n",
       "      <td>162</td>\n",
       "      <td>26</td>\n",
       "      <td>18</td>\n",
       "      <td>59</td>\n",
       "      <td>36</td>\n",
       "      <td>23</td>\n",
       "      <td>...</td>\n",
       "      <td>69</td>\n",
       "      <td>256</td>\n",
       "      <td>122</td>\n",
       "      <td>408</td>\n",
       "      <td>91</td>\n",
       "      <td>140</td>\n",
       "      <td>98</td>\n",
       "      <td>101</td>\n",
       "      <td>3.0</td>\n",
       "      <td>16</td>\n",
       "    </tr>\n",
       "    <tr>\n",
       "      <th>2</th>\n",
       "      <td>BAL</td>\n",
       "      <td>5.19</td>\n",
       "      <td>162</td>\n",
       "      <td>492</td>\n",
       "      <td>161</td>\n",
       "      <td>30</td>\n",
       "      <td>18</td>\n",
       "      <td>53</td>\n",
       "      <td>35</td>\n",
       "      <td>18</td>\n",
       "      <td>...</td>\n",
       "      <td>60</td>\n",
       "      <td>243</td>\n",
       "      <td>170</td>\n",
       "      <td>322</td>\n",
       "      <td>153</td>\n",
       "      <td>119</td>\n",
       "      <td>180</td>\n",
       "      <td>93</td>\n",
       "      <td>3.6</td>\n",
       "      <td>20</td>\n",
       "    </tr>\n",
       "  </tbody>\n",
       "</table>\n",
       "<p>3 rows × 32 columns</p>\n",
       "</div>"
      ],
      "text/plain": [
       "    Tm  RA/G    G   GR   GF  Wgr  Lgr  SVOpp  SV  BSv   ...   Tie  Bhd  Runr  \\\n",
       "0  ARI  4.07  162  514  160   27   18     63  43   20   ...    69  185   162   \n",
       "1  ATL  5.07  162  530  162   26   18     59  36   23   ...    69  256   122   \n",
       "2  BAL  5.19  162  492  161   30   18     53  35   18   ...    60  243   170   \n",
       "\n",
       "   Empt  >3o  <3o  IPmult  0DR  Out/GR  Pit/GR  \n",
       "0   352   97  186     120  116     2.9      16  \n",
       "1   408   91  140      98  101     3.0      16  \n",
       "2   322  153  119     180   93     3.6      20  \n",
       "\n",
       "[3 rows x 32 columns]"
      ]
     },
     "execution_count": 6,
     "metadata": {},
     "output_type": "execute_result"
    }
   ],
   "source": [
    "df1.head(3)"
   ]
  },
  {
   "cell_type": "code",
   "execution_count": 7,
   "metadata": {},
   "outputs": [
    {
     "data": {
      "text/html": [
       "<div>\n",
       "<style>\n",
       "    .dataframe thead tr:only-child th {\n",
       "        text-align: right;\n",
       "    }\n",
       "\n",
       "    .dataframe thead th {\n",
       "        text-align: left;\n",
       "    }\n",
       "\n",
       "    .dataframe tbody tr th {\n",
       "        vertical-align: top;\n",
       "    }\n",
       "</style>\n",
       "<table border=\"1\" class=\"dataframe\">\n",
       "  <thead>\n",
       "    <tr style=\"text-align: right;\">\n",
       "      <th></th>\n",
       "      <th>Tm</th>\n",
       "      <th>RA/G</th>\n",
       "      <th>G</th>\n",
       "      <th>GR</th>\n",
       "      <th>GF</th>\n",
       "      <th>Wgr</th>\n",
       "      <th>Lgr</th>\n",
       "      <th>SVOpp</th>\n",
       "      <th>SV</th>\n",
       "      <th>BSv</th>\n",
       "      <th>...</th>\n",
       "      <th>Tie</th>\n",
       "      <th>Bhd</th>\n",
       "      <th>Runr</th>\n",
       "      <th>Empt</th>\n",
       "      <th>&gt;3o</th>\n",
       "      <th>&lt;3o</th>\n",
       "      <th>IPmult</th>\n",
       "      <th>0DR</th>\n",
       "      <th>Out/GR</th>\n",
       "      <th>Pit/GR</th>\n",
       "    </tr>\n",
       "  </thead>\n",
       "  <tbody>\n",
       "    <tr>\n",
       "      <th>29</th>\n",
       "      <td>WSN</td>\n",
       "      <td>4.15</td>\n",
       "      <td>162</td>\n",
       "      <td>487</td>\n",
       "      <td>159</td>\n",
       "      <td>25</td>\n",
       "      <td>18</td>\n",
       "      <td>64</td>\n",
       "      <td>46</td>\n",
       "      <td>18</td>\n",
       "      <td>...</td>\n",
       "      <td>56</td>\n",
       "      <td>170</td>\n",
       "      <td>122</td>\n",
       "      <td>365</td>\n",
       "      <td>79</td>\n",
       "      <td>148</td>\n",
       "      <td>96</td>\n",
       "      <td>93</td>\n",
       "      <td>2.9</td>\n",
       "      <td>16</td>\n",
       "    </tr>\n",
       "    <tr>\n",
       "      <th>30</th>\n",
       "      <td>LgAvg</td>\n",
       "      <td>4.65</td>\n",
       "      <td>162</td>\n",
       "      <td>522</td>\n",
       "      <td>160</td>\n",
       "      <td>26</td>\n",
       "      <td>24</td>\n",
       "      <td>60</td>\n",
       "      <td>39</td>\n",
       "      <td>21</td>\n",
       "      <td>...</td>\n",
       "      <td>68</td>\n",
       "      <td>217</td>\n",
       "      <td>145</td>\n",
       "      <td>377</td>\n",
       "      <td>114</td>\n",
       "      <td>142</td>\n",
       "      <td>132</td>\n",
       "      <td>100</td>\n",
       "      <td>3.2</td>\n",
       "      <td>18</td>\n",
       "    </tr>\n",
       "    <tr>\n",
       "      <th>31</th>\n",
       "      <td>NaN</td>\n",
       "      <td>4.65</td>\n",
       "      <td>4860</td>\n",
       "      <td>15659</td>\n",
       "      <td>4801</td>\n",
       "      <td>790</td>\n",
       "      <td>731</td>\n",
       "      <td>1794</td>\n",
       "      <td>1179</td>\n",
       "      <td>615</td>\n",
       "      <td>...</td>\n",
       "      <td>2048</td>\n",
       "      <td>6509</td>\n",
       "      <td>4362</td>\n",
       "      <td>11297</td>\n",
       "      <td>3427</td>\n",
       "      <td>4267</td>\n",
       "      <td>3967</td>\n",
       "      <td>3011</td>\n",
       "      <td>3.2</td>\n",
       "      <td>18</td>\n",
       "    </tr>\n",
       "  </tbody>\n",
       "</table>\n",
       "<p>3 rows × 32 columns</p>\n",
       "</div>"
      ],
      "text/plain": [
       "       Tm  RA/G     G     GR    GF  Wgr  Lgr  SVOpp    SV  BSv   ...     Tie  \\\n",
       "29    WSN  4.15   162    487   159   25   18     64    46   18   ...      56   \n",
       "30  LgAvg  4.65   162    522   160   26   24     60    39   21   ...      68   \n",
       "31    NaN  4.65  4860  15659  4801  790  731   1794  1179  615   ...    2048   \n",
       "\n",
       "     Bhd  Runr   Empt   >3o   <3o  IPmult   0DR  Out/GR  Pit/GR  \n",
       "29   170   122    365    79   148      96    93     2.9      16  \n",
       "30   217   145    377   114   142     132   100     3.2      18  \n",
       "31  6509  4362  11297  3427  4267    3967  3011     3.2      18  \n",
       "\n",
       "[3 rows x 32 columns]"
      ]
     },
     "execution_count": 7,
     "metadata": {},
     "output_type": "execute_result"
    }
   ],
   "source": [
    "df1.tail(3)"
   ]
  },
  {
   "cell_type": "markdown",
   "metadata": {},
   "source": [
    "As we suspected this is table is team by team statistics which is not what we need. Maybe using Beautiful soup will be able to find the data needed. Below is code to find all the table rows and headers from the url."
   ]
  },
  {
   "cell_type": "markdown",
   "metadata": {},
   "source": [
    "Try BeautifulSoup by finding all rows in url."
   ]
  },
  {
   "cell_type": "code",
   "execution_count": 8,
   "metadata": {},
   "outputs": [
    {
     "name": "stdout",
     "output_type": "stream",
     "text": [
      "This code found 34 rows\n"
     ]
    }
   ],
   "source": [
    "dTR = soup.find_all('tr')\n",
    "m = [[a.get_text() for a in dTR[i].find_all('td')]\n",
    "     for i in range(len(dTR))]\n",
    "col0_ = [z.get_text().lower() for z in soup.find_all('th')]\n",
    "col1_ = [[k.get_text().lower() for k in dTR[j].find_all('th')]\n",
    "         for j in range(len(dTR))]\n",
    "\n",
    "print('This code found {} rows'.format(len(m)))"
   ]
  },
  {
   "cell_type": "markdown",
   "metadata": {},
   "source": [
    "34 rows seems similiar to the number of rows found by the read_html function. Lets print out the top 3 and bottom 3 rows to see if it is the same table as before:"
   ]
  },
  {
   "cell_type": "code",
   "execution_count": 9,
   "metadata": {},
   "outputs": [
    {
     "data": {
      "text/html": [
       "<div>\n",
       "<style>\n",
       "    .dataframe thead tr:only-child th {\n",
       "        text-align: right;\n",
       "    }\n",
       "\n",
       "    .dataframe thead th {\n",
       "        text-align: left;\n",
       "    }\n",
       "\n",
       "    .dataframe tbody tr th {\n",
       "        vertical-align: top;\n",
       "    }\n",
       "</style>\n",
       "<table border=\"1\" class=\"dataframe\">\n",
       "  <thead>\n",
       "    <tr style=\"text-align: right;\">\n",
       "      <th></th>\n",
       "      <th>ra/g</th>\n",
       "      <th>g</th>\n",
       "      <th>gr</th>\n",
       "      <th>gf</th>\n",
       "      <th>wgr</th>\n",
       "      <th>lgr</th>\n",
       "      <th>svopp</th>\n",
       "      <th>sv</th>\n",
       "      <th>bsv</th>\n",
       "      <th>sv%</th>\n",
       "      <th>...</th>\n",
       "      <th>tie</th>\n",
       "      <th>bhd</th>\n",
       "      <th>runr</th>\n",
       "      <th>empt</th>\n",
       "      <th>&gt;3o</th>\n",
       "      <th>&lt;3o</th>\n",
       "      <th>ipmult</th>\n",
       "      <th>0dr</th>\n",
       "      <th>out/gr</th>\n",
       "      <th>pit/gr</th>\n",
       "    </tr>\n",
       "  </thead>\n",
       "  <tbody>\n",
       "    <tr>\n",
       "      <th>0</th>\n",
       "      <td>None</td>\n",
       "      <td>None</td>\n",
       "      <td>None</td>\n",
       "      <td>None</td>\n",
       "      <td>None</td>\n",
       "      <td>None</td>\n",
       "      <td>None</td>\n",
       "      <td>None</td>\n",
       "      <td>None</td>\n",
       "      <td>None</td>\n",
       "      <td>...</td>\n",
       "      <td>None</td>\n",
       "      <td>None</td>\n",
       "      <td>None</td>\n",
       "      <td>None</td>\n",
       "      <td>None</td>\n",
       "      <td>None</td>\n",
       "      <td>None</td>\n",
       "      <td>None</td>\n",
       "      <td>None</td>\n",
       "      <td>None</td>\n",
       "    </tr>\n",
       "    <tr>\n",
       "      <th>1</th>\n",
       "      <td>4.07</td>\n",
       "      <td>162</td>\n",
       "      <td>514</td>\n",
       "      <td>160</td>\n",
       "      <td>27</td>\n",
       "      <td>18</td>\n",
       "      <td>63</td>\n",
       "      <td>43</td>\n",
       "      <td>20</td>\n",
       "      <td>68%</td>\n",
       "      <td>...</td>\n",
       "      <td>69</td>\n",
       "      <td>185</td>\n",
       "      <td>162</td>\n",
       "      <td>352</td>\n",
       "      <td>97</td>\n",
       "      <td>186</td>\n",
       "      <td>120</td>\n",
       "      <td>116</td>\n",
       "      <td>2.9</td>\n",
       "      <td>16</td>\n",
       "    </tr>\n",
       "    <tr>\n",
       "      <th>2</th>\n",
       "      <td>5.07</td>\n",
       "      <td>162</td>\n",
       "      <td>530</td>\n",
       "      <td>162</td>\n",
       "      <td>26</td>\n",
       "      <td>18</td>\n",
       "      <td>59</td>\n",
       "      <td>36</td>\n",
       "      <td>23</td>\n",
       "      <td>61%</td>\n",
       "      <td>...</td>\n",
       "      <td>69</td>\n",
       "      <td>256</td>\n",
       "      <td>122</td>\n",
       "      <td>408</td>\n",
       "      <td>91</td>\n",
       "      <td>140</td>\n",
       "      <td>98</td>\n",
       "      <td>101</td>\n",
       "      <td>3.0</td>\n",
       "      <td>16</td>\n",
       "    </tr>\n",
       "  </tbody>\n",
       "</table>\n",
       "<p>3 rows × 31 columns</p>\n",
       "</div>"
      ],
      "text/plain": [
       "   ra/g     g    gr    gf   wgr   lgr svopp    sv   bsv   sv%  ...     tie  \\\n",
       "0  None  None  None  None  None  None  None  None  None  None  ...    None   \n",
       "1  4.07   162   514   160    27    18    63    43    20   68%  ...      69   \n",
       "2  5.07   162   530   162    26    18    59    36    23   61%  ...      69   \n",
       "\n",
       "    bhd  runr  empt   >3o   <3o ipmult   0dr out/gr pit/gr  \n",
       "0  None  None  None  None  None   None  None   None   None  \n",
       "1   185   162   352    97   186    120   116    2.9     16  \n",
       "2   256   122   408    91   140     98   101    3.0     16  \n",
       "\n",
       "[3 rows x 31 columns]"
      ]
     },
     "execution_count": 9,
     "metadata": {},
     "output_type": "execute_result"
    }
   ],
   "source": [
    "pd.DataFrame(m, columns=col1_[0][1:]).head(3)"
   ]
  },
  {
   "cell_type": "code",
   "execution_count": 10,
   "metadata": {},
   "outputs": [
    {
     "data": {
      "text/html": [
       "<div>\n",
       "<style>\n",
       "    .dataframe thead tr:only-child th {\n",
       "        text-align: right;\n",
       "    }\n",
       "\n",
       "    .dataframe thead th {\n",
       "        text-align: left;\n",
       "    }\n",
       "\n",
       "    .dataframe tbody tr th {\n",
       "        vertical-align: top;\n",
       "    }\n",
       "</style>\n",
       "<table border=\"1\" class=\"dataframe\">\n",
       "  <thead>\n",
       "    <tr style=\"text-align: right;\">\n",
       "      <th></th>\n",
       "      <th>ra/g</th>\n",
       "      <th>g</th>\n",
       "      <th>gr</th>\n",
       "      <th>gf</th>\n",
       "      <th>wgr</th>\n",
       "      <th>lgr</th>\n",
       "      <th>svopp</th>\n",
       "      <th>sv</th>\n",
       "      <th>bsv</th>\n",
       "      <th>sv%</th>\n",
       "      <th>...</th>\n",
       "      <th>tie</th>\n",
       "      <th>bhd</th>\n",
       "      <th>runr</th>\n",
       "      <th>empt</th>\n",
       "      <th>&gt;3o</th>\n",
       "      <th>&lt;3o</th>\n",
       "      <th>ipmult</th>\n",
       "      <th>0dr</th>\n",
       "      <th>out/gr</th>\n",
       "      <th>pit/gr</th>\n",
       "    </tr>\n",
       "  </thead>\n",
       "  <tbody>\n",
       "    <tr>\n",
       "      <th>31</th>\n",
       "      <td>4.65</td>\n",
       "      <td>162</td>\n",
       "      <td>522</td>\n",
       "      <td>160</td>\n",
       "      <td>26</td>\n",
       "      <td>24</td>\n",
       "      <td>60</td>\n",
       "      <td>39</td>\n",
       "      <td>21</td>\n",
       "      <td>66%</td>\n",
       "      <td>...</td>\n",
       "      <td>68</td>\n",
       "      <td>217</td>\n",
       "      <td>145</td>\n",
       "      <td>377</td>\n",
       "      <td>114</td>\n",
       "      <td>142</td>\n",
       "      <td>132</td>\n",
       "      <td>100</td>\n",
       "      <td>3.2</td>\n",
       "      <td>18</td>\n",
       "    </tr>\n",
       "    <tr>\n",
       "      <th>32</th>\n",
       "      <td>4.65</td>\n",
       "      <td>4860</td>\n",
       "      <td>15659</td>\n",
       "      <td>4801</td>\n",
       "      <td>790</td>\n",
       "      <td>731</td>\n",
       "      <td>1794</td>\n",
       "      <td>1179</td>\n",
       "      <td>615</td>\n",
       "      <td>66%</td>\n",
       "      <td>...</td>\n",
       "      <td>2048</td>\n",
       "      <td>6509</td>\n",
       "      <td>4362</td>\n",
       "      <td>11297</td>\n",
       "      <td>3427</td>\n",
       "      <td>4267</td>\n",
       "      <td>3967</td>\n",
       "      <td>3011</td>\n",
       "      <td>3.2</td>\n",
       "      <td>18</td>\n",
       "    </tr>\n",
       "    <tr>\n",
       "      <th>33</th>\n",
       "      <td>None</td>\n",
       "      <td>None</td>\n",
       "      <td>None</td>\n",
       "      <td>None</td>\n",
       "      <td>None</td>\n",
       "      <td>None</td>\n",
       "      <td>None</td>\n",
       "      <td>None</td>\n",
       "      <td>None</td>\n",
       "      <td>None</td>\n",
       "      <td>...</td>\n",
       "      <td>None</td>\n",
       "      <td>None</td>\n",
       "      <td>None</td>\n",
       "      <td>None</td>\n",
       "      <td>None</td>\n",
       "      <td>None</td>\n",
       "      <td>None</td>\n",
       "      <td>None</td>\n",
       "      <td>None</td>\n",
       "      <td>None</td>\n",
       "    </tr>\n",
       "  </tbody>\n",
       "</table>\n",
       "<p>3 rows × 31 columns</p>\n",
       "</div>"
      ],
      "text/plain": [
       "    ra/g     g     gr    gf   wgr   lgr svopp    sv   bsv   sv%  ...     tie  \\\n",
       "31  4.65   162    522   160    26    24    60    39    21   66%  ...      68   \n",
       "32  4.65  4860  15659  4801   790   731  1794  1179   615   66%  ...    2048   \n",
       "33  None  None   None  None  None  None  None  None  None  None  ...    None   \n",
       "\n",
       "     bhd  runr   empt   >3o   <3o ipmult   0dr out/gr pit/gr  \n",
       "31   217   145    377   114   142    132   100    3.2     18  \n",
       "32  6509  4362  11297  3427  4267   3967  3011    3.2     18  \n",
       "33  None  None   None  None  None   None  None   None   None  \n",
       "\n",
       "[3 rows x 31 columns]"
      ]
     },
     "execution_count": 10,
     "metadata": {},
     "output_type": "execute_result"
    }
   ],
   "source": [
    "pd.DataFrame(m, columns=col1_[0][1:]).tail(3)"
   ]
  },
  {
   "cell_type": "markdown",
   "metadata": {},
   "source": [
    "This is the same table minus some nice formatting. Lets move to using a remote web browser given that we did not find the desired table using these traditional nethods. The remote web browser we will be using is Selenium."
   ]
  },
  {
   "cell_type": "markdown",
   "metadata": {
    "collapsed": true
   },
   "source": [
    "__Assumptions:__\n",
    "\n",
    "* Python 2.7 or higher\n",
    "* basic Python knowledge\n",
    "* basic knowledge of HTML"
   ]
  },
  {
   "cell_type": "markdown",
   "metadata": {
    "collapsed": true
   },
   "source": [
    "Software Preliminaries:\n",
    "\n",
    "Download the webdriver that is congruent with the webbrowser you are going to be using. I will be using the Google Chrome webdriver which is freely available at the following url:\n",
    "\n",
    "* https://sites.google.com/a/chromium.org/chromedriver/downloads\n",
    "\n",
    "Make sure that you know where the webdriver is stored on your local machine as Selenium needs this information in order to open a remote browser. To keep it simple, I created a folder named 'web_drivers' within my Documents folder and saved the Google Chrome webdriver there.\n",
    "\n",
    "Now that the webdriver has been downloaded Selenium needs to be installed. You can first check to see if Selenium is installed by opening up the terminal / command line and writing 'pip freeze' or 'conda list' if you are using the Python version distrubuted by Continum Analytics. Assuming that it is not installed, from the terminal write pip install Selenium. After a moment Selenium should be installed."
   ]
  },
  {
   "cell_type": "markdown",
   "metadata": {},
   "source": [
    "__Preliminaries:__\n",
    "\n",
    "We need to determine how the data is stored on the website of interest. Prior to any web scraping, navigate to the website of interest. Within the data that is needed right click and choose inspect. This should display a window showing HTML code. We now have three options to tell Selenium where the data is located within the html: \n",
    "\n",
    "* use the element class\n",
    "* use the element id\n",
    "* use Xpath\n",
    "\n",
    "I usually choose the one of the last two if they are available. Why? Element IDs are unique and element classes are not, so if an HTML element has an ID you know that it is the only one within the website. Using Xpath is somewhat easy because it will systematically find the data needed. However, I only use Xpath through the inspect window (see below) because I do not have enough real Xpath experience to feel confident in writing my own.\n",
    "\n",
    "To find the Xpath through the inspect window follow these steps:\n",
    "\n",
    "1. Find the html tag where the data is stored and click on it. You should see three dots to the left.\n",
    "2. Click on the dots and hover over copy and then select Copy Xpath. This will copy the xpath to the clipboard.\n",
    "\n",
    "Lets now go through the steps to scrape some data using Selenium."
   ]
  },
  {
   "cell_type": "markdown",
   "metadata": {},
   "source": [
    "__Step 1:__\n",
    "Store two variables\n",
    "* variable 1 --> location/path of webdriver\n",
    "* variable 2 --> url of the website that has the relevant data\n",
    "\n",
    "Fire up a remote browser and navigate to the web page where the data can be found."
   ]
  },
  {
   "cell_type": "code",
   "execution_count": 11,
   "metadata": {
    "collapsed": true
   },
   "outputs": [],
   "source": [
    "wd_location = '/Users/jonathanarmitage/Documents/web_drivers/chromedriver'\n",
    "# wd_location = 'path/to/webdriver/'\n",
    "url = 'https://www.baseball-reference.com/leagues/MLB/2017-reliever-pitching.shtml'"
   ]
  },
  {
   "cell_type": "markdown",
   "metadata": {},
   "source": [
    "__Step 2:__\n",
    "\n",
    "* Load the remote browser and navigate to the url of the page whose data is to be scraped.\n",
    "\n",
    "* We are not using a phantom browser, so you should see a new instance of a web broswer load. This is the browser that we are going to control."
   ]
  },
  {
   "cell_type": "code",
   "execution_count": 12,
   "metadata": {
    "collapsed": true
   },
   "outputs": [],
   "source": [
    "# load remote browser\n",
    "browser = webdriver.Chrome(executable_path=wd_location)\n",
    "\n",
    "# use browser instance to navigate to url\n",
    "browser.get(url)"
   ]
  },
  {
   "cell_type": "markdown",
   "metadata": {},
   "source": [
    "Since Selenium is a remote browser it will not find things that are not on the page. Therefore, it is good to maximize the viewing window. If a button or check box is to be toggled, then run the 'window scroll' function so that the toggle of interest is viewable by Selenium."
   ]
  },
  {
   "cell_type": "code",
   "execution_count": 15,
   "metadata": {},
   "outputs": [],
   "source": [
    "# browser.maximize_window()\n",
    "browser.execute_script(\"window.scrollTo(0, 1000);\")"
   ]
  },
  {
   "cell_type": "markdown",
   "metadata": {},
   "source": [
    "Step 3:\n",
    "\n",
    "Store the element identifier into a variable. I am going to use Xpath as the identifier for this tutorial, just remember to store it as a string."
   ]
  },
  {
   "cell_type": "code",
   "execution_count": 16,
   "metadata": {
    "collapsed": true
   },
   "outputs": [],
   "source": [
    "xpathID = '//*[@id=\"players_reliever_pitching\"]'"
   ]
  },
  {
   "cell_type": "markdown",
   "metadata": {},
   "source": [
    "Use the browser instance to find the element located in the XpathID variable"
   ]
  },
  {
   "cell_type": "code",
   "execution_count": 17,
   "metadata": {
    "collapsed": true
   },
   "outputs": [],
   "source": [
    "elem0 = browser.find_element_by_xpath(xpathID)"
   ]
  },
  {
   "cell_type": "markdown",
   "metadata": {},
   "source": [
    "Locate table of interest using Pandas read_html method utilizing the 'match' parmaeter. There are rows that have no data so we will remove any rows where 'Name' is in the column 'Name'. We will also remove the colymn 'Rk' since it is of no interest."
   ]
  },
  {
   "cell_type": "code",
   "execution_count": 18,
   "metadata": {
    "collapsed": true
   },
   "outputs": [],
   "source": [
    "tables = pd.read_html(str(browser.page_source), match='Age')[0]\n",
    "tables = tables.loc[tables['Name'] != 'Name'].reset_index(drop=True)\n",
    "tables.drop('Rk', axis=1, inplace=True)"
   ]
  },
  {
   "cell_type": "markdown",
   "metadata": {},
   "source": [
    "Find all unique urls using a list comprehension:"
   ]
  },
  {
   "cell_type": "code",
   "execution_count": 19,
   "metadata": {
    "collapsed": true
   },
   "outputs": [],
   "source": [
    "getIDs = [x.get_attribute('href') for x in elem0.find_elements_by_tag_name('a')]"
   ]
  },
  {
   "cell_type": "markdown",
   "metadata": {},
   "source": [
    "Compile regex to locate first part of each observations unique id:"
   ]
  },
  {
   "cell_type": "code",
   "execution_count": 20,
   "metadata": {
    "collapsed": true
   },
   "outputs": [],
   "source": [
    "reX = re.compile('https://www.baseball-reference.com/players/\\w/')"
   ]
  },
  {
   "cell_type": "markdown",
   "metadata": {},
   "source": [
    "Loop through 'getIDs' and find instances that only have '/players/' in them:"
   ]
  },
  {
   "cell_type": "code",
   "execution_count": 21,
   "metadata": {
    "collapsed": true
   },
   "outputs": [],
   "source": [
    "pl0 = [] \n",
    "for i in getIDs:\n",
    "    if '/players/' in i:\n",
    "        x1 = re.sub(reX, '', i).replace('.shtml', '')\n",
    "        pl0.append(x1)"
   ]
  },
  {
   "cell_type": "markdown",
   "metadata": {},
   "source": [
    "Format instances and columns"
   ]
  },
  {
   "cell_type": "code",
   "execution_count": 22,
   "metadata": {
    "collapsed": true
   },
   "outputs": [],
   "source": [
    "tables['Name'] = tables['Name'].str.replace('\\xa0', ' ').str.replace('*', '').str.strip()"
   ]
  },
  {
   "cell_type": "code",
   "execution_count": 23,
   "metadata": {
    "collapsed": true
   },
   "outputs": [],
   "source": [
    "tables.columns = tables.columns.str.lower().str.replace('/', '_').str.replace('>', 'more_than_').\\\n",
    "str.replace('<', 'less_than_').str.replace('-', '_').str.replace('≥', 'more_than_or_equal').\\\n",
    "str.replace('%', '_pct')\n",
    "\n",
    "tables.rename(columns={'g': 'games', 'w': 'wins', 'l': 'losses'}, inplace=True)"
   ]
  },
  {
   "cell_type": "code",
   "execution_count": 24,
   "metadata": {
    "collapsed": true
   },
   "outputs": [],
   "source": [
    "tables['sv_pct'] = tables['sv_pct'].str.replace('%', '').str.strip()\n",
    "tables['is_pct'] = tables['is_pct'].str.replace('%', '').str.strip()"
   ]
  },
  {
   "cell_type": "code",
   "execution_count": 25,
   "metadata": {
    "collapsed": true
   },
   "outputs": [],
   "source": [
    "static = ['name', 'bbrefID', 'tm', 'year']\n",
    "notStatic = [x for x in tables if x not in static]\n",
    "\n",
    "for col_ in notStatic:\n",
    "    tables[col_] = tables[col_].astype(float)"
   ]
  },
  {
   "cell_type": "markdown",
   "metadata": {},
   "source": [
    "If length of playerIDs equals length of dataframe --> add playerIDs to dataframe and then close the browser\n",
    "Else print 'Length mismatch' and close the remote browser"
   ]
  },
  {
   "cell_type": "code",
   "execution_count": 26,
   "metadata": {
    "collapsed": true
   },
   "outputs": [],
   "source": [
    "if len(pl0) == len(tables):\n",
    "    tables['bbrefID'] = pl0\n",
    "    browser.close()\n",
    "else:\n",
    "    print('length mismatch')\n",
    "    browser.close()"
   ]
  },
  {
   "cell_type": "markdown",
   "metadata": {},
   "source": [
    "View top 3 rows of dataframe"
   ]
  },
  {
   "cell_type": "code",
   "execution_count": 27,
   "metadata": {},
   "outputs": [
    {
     "data": {
      "text/html": [
       "<div>\n",
       "<style>\n",
       "    .dataframe thead tr:only-child th {\n",
       "        text-align: right;\n",
       "    }\n",
       "\n",
       "    .dataframe thead th {\n",
       "        text-align: left;\n",
       "    }\n",
       "\n",
       "    .dataframe tbody tr th {\n",
       "        vertical-align: top;\n",
       "    }\n",
       "</style>\n",
       "<table border=\"1\" class=\"dataframe\">\n",
       "  <thead>\n",
       "    <tr style=\"text-align: right;\">\n",
       "      <th></th>\n",
       "      <th>name</th>\n",
       "      <th>age</th>\n",
       "      <th>tm</th>\n",
       "      <th>ip</th>\n",
       "      <th>games</th>\n",
       "      <th>gr</th>\n",
       "      <th>gf</th>\n",
       "      <th>wgr</th>\n",
       "      <th>lgr</th>\n",
       "      <th>svopp</th>\n",
       "      <th>...</th>\n",
       "      <th>bhd</th>\n",
       "      <th>runr</th>\n",
       "      <th>empt</th>\n",
       "      <th>more_than_3o</th>\n",
       "      <th>less_than_3o</th>\n",
       "      <th>ipmult</th>\n",
       "      <th>0dr</th>\n",
       "      <th>out_gr</th>\n",
       "      <th>pit_gr</th>\n",
       "      <th>bbrefID</th>\n",
       "    </tr>\n",
       "  </thead>\n",
       "  <tbody>\n",
       "    <tr>\n",
       "      <th>0</th>\n",
       "      <td>Fernando Abad</td>\n",
       "      <td>31.0</td>\n",
       "      <td>BOS</td>\n",
       "      <td>43.2</td>\n",
       "      <td>48.0</td>\n",
       "      <td>48.0</td>\n",
       "      <td>15.0</td>\n",
       "      <td>2.0</td>\n",
       "      <td>1.0</td>\n",
       "      <td>3.0</td>\n",
       "      <td>...</td>\n",
       "      <td>32.0</td>\n",
       "      <td>17.0</td>\n",
       "      <td>31.0</td>\n",
       "      <td>8.0</td>\n",
       "      <td>26.0</td>\n",
       "      <td>12.0</td>\n",
       "      <td>6.0</td>\n",
       "      <td>2.7</td>\n",
       "      <td>16.0</td>\n",
       "      <td>abadfe01</td>\n",
       "    </tr>\n",
       "    <tr>\n",
       "      <th>1</th>\n",
       "      <td>Austin Adams</td>\n",
       "      <td>26.0</td>\n",
       "      <td>WSN</td>\n",
       "      <td>5.0</td>\n",
       "      <td>6.0</td>\n",
       "      <td>6.0</td>\n",
       "      <td>3.0</td>\n",
       "      <td>0.0</td>\n",
       "      <td>0.0</td>\n",
       "      <td>0.0</td>\n",
       "      <td>...</td>\n",
       "      <td>5.0</td>\n",
       "      <td>0.0</td>\n",
       "      <td>6.0</td>\n",
       "      <td>0.0</td>\n",
       "      <td>1.0</td>\n",
       "      <td>0.0</td>\n",
       "      <td>0.0</td>\n",
       "      <td>2.5</td>\n",
       "      <td>22.0</td>\n",
       "      <td>adamsau02</td>\n",
       "    </tr>\n",
       "    <tr>\n",
       "      <th>2</th>\n",
       "      <td>Tim Adleman</td>\n",
       "      <td>29.0</td>\n",
       "      <td>CIN</td>\n",
       "      <td>122.1</td>\n",
       "      <td>30.0</td>\n",
       "      <td>10.0</td>\n",
       "      <td>4.0</td>\n",
       "      <td>0.0</td>\n",
       "      <td>2.0</td>\n",
       "      <td>0.0</td>\n",
       "      <td>...</td>\n",
       "      <td>6.0</td>\n",
       "      <td>2.0</td>\n",
       "      <td>8.0</td>\n",
       "      <td>3.0</td>\n",
       "      <td>1.0</td>\n",
       "      <td>4.0</td>\n",
       "      <td>1.0</td>\n",
       "      <td>5.1</td>\n",
       "      <td>30.0</td>\n",
       "      <td>adlemti01</td>\n",
       "    </tr>\n",
       "    <tr>\n",
       "      <th>3</th>\n",
       "      <td>Andrew Albers</td>\n",
       "      <td>31.0</td>\n",
       "      <td>SEA</td>\n",
       "      <td>41.0</td>\n",
       "      <td>9.0</td>\n",
       "      <td>3.0</td>\n",
       "      <td>2.0</td>\n",
       "      <td>1.0</td>\n",
       "      <td>0.0</td>\n",
       "      <td>1.0</td>\n",
       "      <td>...</td>\n",
       "      <td>1.0</td>\n",
       "      <td>1.0</td>\n",
       "      <td>2.0</td>\n",
       "      <td>3.0</td>\n",
       "      <td>0.0</td>\n",
       "      <td>3.0</td>\n",
       "      <td>0.0</td>\n",
       "      <td>9.7</td>\n",
       "      <td>56.0</td>\n",
       "      <td>alberan01</td>\n",
       "    </tr>\n",
       "    <tr>\n",
       "      <th>4</th>\n",
       "      <td>Matt Albers</td>\n",
       "      <td>34.0</td>\n",
       "      <td>WSN</td>\n",
       "      <td>61.0</td>\n",
       "      <td>63.0</td>\n",
       "      <td>63.0</td>\n",
       "      <td>23.0</td>\n",
       "      <td>7.0</td>\n",
       "      <td>2.0</td>\n",
       "      <td>6.0</td>\n",
       "      <td>...</td>\n",
       "      <td>20.0</td>\n",
       "      <td>26.0</td>\n",
       "      <td>37.0</td>\n",
       "      <td>13.0</td>\n",
       "      <td>22.0</td>\n",
       "      <td>17.0</td>\n",
       "      <td>16.0</td>\n",
       "      <td>2.9</td>\n",
       "      <td>15.0</td>\n",
       "      <td>alberma01</td>\n",
       "    </tr>\n",
       "  </tbody>\n",
       "</table>\n",
       "<p>5 rows × 35 columns</p>\n",
       "</div>"
      ],
      "text/plain": [
       "            name   age   tm     ip  games    gr    gf  wgr  lgr  svopp  \\\n",
       "0  Fernando Abad  31.0  BOS   43.2   48.0  48.0  15.0  2.0  1.0    3.0   \n",
       "1   Austin Adams  26.0  WSN    5.0    6.0   6.0   3.0  0.0  0.0    0.0   \n",
       "2    Tim Adleman  29.0  CIN  122.1   30.0  10.0   4.0  0.0  2.0    0.0   \n",
       "3  Andrew Albers  31.0  SEA   41.0    9.0   3.0   2.0  1.0  0.0    1.0   \n",
       "4    Matt Albers  34.0  WSN   61.0   63.0  63.0  23.0  7.0  2.0    6.0   \n",
       "\n",
       "     ...       bhd  runr  empt  more_than_3o  less_than_3o  ipmult   0dr  \\\n",
       "0    ...      32.0  17.0  31.0           8.0          26.0    12.0   6.0   \n",
       "1    ...       5.0   0.0   6.0           0.0           1.0     0.0   0.0   \n",
       "2    ...       6.0   2.0   8.0           3.0           1.0     4.0   1.0   \n",
       "3    ...       1.0   1.0   2.0           3.0           0.0     3.0   0.0   \n",
       "4    ...      20.0  26.0  37.0          13.0          22.0    17.0  16.0   \n",
       "\n",
       "   out_gr  pit_gr    bbrefID  \n",
       "0     2.7    16.0   abadfe01  \n",
       "1     2.5    22.0  adamsau02  \n",
       "2     5.1    30.0  adlemti01  \n",
       "3     9.7    56.0  alberan01  \n",
       "4     2.9    15.0  alberma01  \n",
       "\n",
       "[5 rows x 35 columns]"
      ]
     },
     "execution_count": 27,
     "metadata": {},
     "output_type": "execute_result"
    }
   ],
   "source": [
    "tables.head()"
   ]
  },
  {
   "cell_type": "markdown",
   "metadata": {},
   "source": [
    "Encapsulate all of the above code into a function. I have added a parameter that allows the user to scrape either reliever or starter statistics. No code changed except the url that is called."
   ]
  },
  {
   "cell_type": "code",
   "execution_count": 28,
   "metadata": {
    "collapsed": true
   },
   "outputs": [],
   "source": [
    "def getData(pos_type, mlb_season):\n",
    "    \n",
    "    \"\"\"\n",
    "    Control remote web browser do scrape starter and reliever atatistics\n",
    "    \n",
    "    Parameters:\n",
    "    -----------\n",
    "    pos_type: str\n",
    "        options: {'rel', 'starter'}\n",
    "    mlb_season: int\n",
    "    \n",
    "    Returns:\n",
    "    --------\n",
    "    Dataframe\n",
    "    \"\"\"\n",
    "    \n",
    "    wd_location = 'path/to/webdriver'\n",
    "#     wd_location = '/Users/jonathanarmitage/Documents/web_drivers/chromedriver'\n",
    "    \n",
    "    if pos_type == 'starter':\n",
    "        url = 'https://www.baseball-reference.com/leagues/MLB/{}-starter-pitching.shtml'.format(mlb_season)\n",
    "        xpathID = '//*[@id=\"players_starter_pitching\"]'\n",
    "    elif pos_type == 'rel':\n",
    "        url = 'https://www.baseball-reference.com/leagues/MLB/{}-reliever-pitching.shtml'.format(mlb_season)\n",
    "        xpathID = '//*[@id=\"players_reliever_pitching\"]'\n",
    "\n",
    "    browser = webdriver.Chrome(executable_path=wd_location)\n",
    "\n",
    "    # use browser instance to navigate to url\n",
    "    browser.get(url)\n",
    "    browser.execute_script(\"window.scrollTo(0, 1000);\")\n",
    "    \n",
    "    elem0 = browser.find_element_by_xpath(xpathID)\n",
    "    \n",
    "    # Locate table of interest using Pandas read_html method\n",
    "    #     Remove all rows that include 'Name'\n",
    "    #     Remove 'Rk' column\n",
    "    tables = pd.read_html(str(browser.page_source), match='Age')[0]\n",
    "    tables = tables.loc[tables['Name'] != 'Name'].reset_index(drop=True)\n",
    "    tables.drop('Rk', axis=1, inplace=True)\n",
    "    \n",
    "    # obtain playerIDs\n",
    "    getIDs = [x.get_attribute('href') for x in elem0.find_elements_by_tag_name('a')]\n",
    "    \n",
    "    reX = re.compile('https://www.baseball-reference.com/players/\\w/')\n",
    "    \n",
    "    pl0 = [] \n",
    "    for i in getIDs:\n",
    "        if '/players/' in i:\n",
    "            x1 = re.sub(reX, '', i).replace('.shtml', '')\n",
    "            pl0.append(x1)\n",
    "    \n",
    "    # clean data\n",
    "    tables['Name'] = tables['Name'].str.replace('\\xa0', ' ').str.replace('*', '').str.strip()\n",
    "    tables.columns = tables.columns.str.lower().str.replace('/', '_').str.replace('>', 'more_than_').\\\n",
    "    str.replace('<', 'less_than_').str.replace('-', '_').str.replace('≥', 'more_than_or_equal').\\\n",
    "    str.replace('%', '_pct')\n",
    "\n",
    "    tables.rename(columns={'g': 'games', 'w': 'wins', 'l': 'losses'}, inplace=True)\n",
    "    tables['year'] = mlb_season\n",
    "    \n",
    "    # conditional cleaning based on pos_type\n",
    "    if pos_type == 'starter':\n",
    "        tables['qs_pct'] = tables['qs_pct'].str.replace('%', '').str.strip()\n",
    "    elif pos_type == 'rel':\n",
    "        tables['sv_pct'] = tables['sv_pct'].str.replace('%', '').str.strip()\n",
    "        tables['is_pct'] = tables['is_pct'].str.replace('%', '').str.strip()\n",
    "\n",
    "    static = ['name', 'bbrefID', 'tm', 'year']\n",
    "    notStatic = [x for x in tables if x not in static]\n",
    "\n",
    "    for col_ in notStatic:\n",
    "        tables[col_] = tables[col_].astype(float)\n",
    "    \n",
    "    # conditional calculations based on pos_type\n",
    "    if pos_type == 'starter':\n",
    "        tables['qs_pct'] = np.where(tables['gs'] > 0, tables['qs'] / tables['gs'], np.nan)\n",
    "    elif pos_type == 'rel':\n",
    "        tables['sv_pct'] = np.where(tables['svopp'] > 0, tables['sv'] / tables['svopp'], np.nan)\n",
    "        tables['is_pct'] = np.where(tables['ir'] > 0, tables['is'] / tables['ir'], np.nan)\n",
    "\n",
    "    if len(pl0) == len(tables):\n",
    "        tables['bbrefID'] = pl0\n",
    "        browser.close()\n",
    "        return tables\n",
    "    else:\n",
    "        print('length mismatch')\n",
    "        browser.close()"
   ]
  },
  {
   "cell_type": "markdown",
   "metadata": {},
   "source": [
    "Since some observations play for multiple teams it is necessary to condense there statistics. Here is a function that does this:"
   ]
  },
  {
   "cell_type": "code",
   "execution_count": 29,
   "metadata": {
    "collapsed": true
   },
   "outputs": [],
   "source": [
    "def trimMult(X):\n",
    "\n",
    "    \"\"\"\n",
    "    Splits dataframe, X, into two seperate dataframes:\n",
    "        - observations who appeared with a single team, tbl1\n",
    "        - observations that appeared with multiple teams, tbl2\n",
    "    Dataframe tbl2 is parsed to include only 1 row per observation\n",
    "    The dataframes are then row-wise concatanated\n",
    "    \n",
    "    Parameters:\n",
    "    -----------\n",
    "    X: dataframe\n",
    "        holds scraped observations from the function getData()\n",
    "        \n",
    "    Returns:\n",
    "    --------\n",
    "    Dataframe\n",
    "    \"\"\"\n",
    "    grp0 = pd.DataFrame(X.groupby(['name', 'bbrefID']).size().reset_index()).rename(columns={0: 'freq'})\n",
    "    tbl0 = pd.merge(X, grp0, on=['name', 'bbrefID'], how='left')\n",
    "    \n",
    "    tbl1 = tbl0.loc[tbl0['freq'] == 1].reset_index(drop=True)\n",
    "    tbl2 = tbl0.loc[(tbl0['freq'] >= 2) & (tbl0['tm'] == 'TOT')].reset_index(drop=True)\n",
    "    \n",
    "    tbl3 = pd.concat([tbl1, tbl2], axis=0).reset_index(drop=True)\n",
    "    tbl3.drop('freq', axis=1, inplace=True)\n",
    "    \n",
    "    # formats innings column\n",
    "    tbl3['ip0'] = tbl3['ip'].astype(str).str.split('.').str[0].astype(int)\n",
    "    tbl3['ip1'] = tbl3['ip'].astype(str).str.split('.').str[1].astype(int) / 3\n",
    "\n",
    "    tbl3['ip2'] = tbl3['ip0'] + tbl3['ip1']\n",
    "\n",
    "    tbl3.drop(['ip', 'ip0', 'ip1'], axis=1, inplace=True)\n",
    "    tbl3.rename(columns={'ip2': 'ip'}, inplace=True)\n",
    "    \n",
    "    return tbl3"
   ]
  },
  {
   "cell_type": "code",
   "execution_count": 46,
   "metadata": {
    "collapsed": true
   },
   "outputs": [],
   "source": [
    "A = getData(pos_type='starter', mlb_season=2003)"
   ]
  },
  {
   "cell_type": "code",
   "execution_count": 47,
   "metadata": {
    "collapsed": true
   },
   "outputs": [],
   "source": [
    "F = trimMult(X=A)"
   ]
  },
  {
   "cell_type": "markdown",
   "metadata": {},
   "source": [
    "To scrape multiple seasons the above function can be nested in a for loop. The iterator being the year to scrape. "
   ]
  },
  {
   "cell_type": "code",
   "execution_count": null,
   "metadata": {},
   "outputs": [],
   "source": [
    "holdDF = pd.DataFrame()\n",
    "for year in range(2010, 2013):\n",
    "    print('Working on MLB season: {}'.format(year))\n",
    "    tmpDF0 = getData(pos_type='rel', mlb_season=year)\n",
    "    tmpDF1 = trimMult(X=tmpDF0)\n",
    "    holdDF = holdDF.append(tmpDF1)"
   ]
  },
  {
   "cell_type": "markdown",
   "metadata": {
    "collapsed": true
   },
   "source": [
    "In conclusion this tutorial has shown us how to access a remote browser and scrape data from it."
   ]
  }
 ],
 "metadata": {
  "kernelspec": {
   "display_name": "Python 3",
   "language": "python",
   "name": "python3"
  },
  "language_info": {
   "codemirror_mode": {
    "name": "ipython",
    "version": 3
   },
   "file_extension": ".py",
   "mimetype": "text/x-python",
   "name": "python",
   "nbconvert_exporter": "python",
   "pygments_lexer": "ipython3",
   "version": "3.6.2"
  }
 },
 "nbformat": 4,
 "nbformat_minor": 2
}
