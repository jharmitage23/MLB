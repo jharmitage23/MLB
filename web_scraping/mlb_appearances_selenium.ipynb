{
 "cells": [
  {
   "cell_type": "markdown",
   "metadata": {},
   "source": [
    "Script / function to scrape player appearance data from www.baseball-reference.com"
   ]
  },
  {
   "cell_type": "code",
   "execution_count": null,
   "metadata": {
    "collapsed": true
   },
   "outputs": [],
   "source": [
    "from bs4 import BeautifulSoup\n",
    "from selenium import webdriver\n",
    "import pandas as pd\n",
    "import numpy as np\n",
    "import requests\n",
    "import os\n",
    "import re"
   ]
  },
  {
   "cell_type": "code",
   "execution_count": null,
   "metadata": {
    "collapsed": true
   },
   "outputs": [],
   "source": [
    "def get_appear(mlb_year):\n",
    "    \n",
    "    \"\"\"\n",
    "    Scrape player appearance data from baseball-reference.com\n",
    "    \n",
    "    Parameters:\n",
    "    -----------\n",
    "    mlb_year: int\n",
    "        mlb season of player appearances to scrape\n",
    "    \n",
    "    Returns:\n",
    "    --------\n",
    "    Dataframe\n",
    "    \"\"\"\n",
    "    \n",
    "    wd_location = '/Users/jonathanarmitage/Documents/web_drivers/chromedriver'\n",
    "    \n",
    "    url = 'https://www.baseball-reference.com/leagues/MLB/{}-appearances-fielding.shtml'.format(mlb_year)\n",
    "    browser = webdriver.Chrome(executable_path=wd_location)\n",
    "\n",
    "    # use browser instance to navigate to url\n",
    "    browser.get(url)\n",
    "    \n",
    "    tables = pd.read_html(str(browser.page_source), match='Age')[0]\n",
    "    tables = tables.loc[tables['Name'] != 'Name'].reset_index(drop=True)\n",
    "    tables.drop('Rk', axis=1, inplace=True)\n",
    "\n",
    "    elem0 = browser.find_element_by_xpath('//*[@id=\"players_players_appearances_fielding\"]')\n",
    "\n",
    "    getIDs = [x.get_attribute('href') for x in elem0.find_elements_by_tag_name('a')]\n",
    "    reX = re.compile('https://www.baseball-reference.com/players/\\w/')\n",
    "\n",
    "    pl0 = [] \n",
    "    for i in getIDs:\n",
    "        if '/players/' in i:\n",
    "            x1 = re.sub(reX, '', i).replace('.shtml', '')\n",
    "            pl0.append(x1)\n",
    "\n",
    "    tables['Name'] = tables['Name'].str.replace('\\xa0', ' ').str.replace('*', '').str.strip()\n",
    "\n",
    "    tables['bbrefID'] = pl0\n",
    "    \n",
    "    tables.columns = tables.columns.str.lower()\n",
    "    \n",
    "    if mlb_year < 1973:\n",
    "        col0_ = ['p', 'c', '1b', '2b', '3b', 'ss', 'lf', 'cf', 'rf']\n",
    "    else:\n",
    "        col0_ = ['p', 'c', '1b', '2b', '3b', 'ss', 'lf', 'cf', 'rf', 'dh']\n",
    "\n",
    "    tables[col0_] = tables[col0_].astype(int)\n",
    "    tables['max_pos'] = tables.loc[:, col0_].idxmax(axis=1)\n",
    "    tables['year'] = mlb_year\n",
    "    \n",
    "    browser.close()\n",
    "    return tables"
   ]
  },
  {
   "cell_type": "markdown",
   "metadata": {},
   "source": [
    "Check to make sure that the function works for a given mlb season"
   ]
  },
  {
   "cell_type": "code",
   "execution_count": null,
   "metadata": {
    "collapsed": true
   },
   "outputs": [],
   "source": [
    "A = get_appear(mlb_year=1997)"
   ]
  },
  {
   "cell_type": "markdown",
   "metadata": {},
   "source": [
    "Loop through years and collect data into a dataframe"
   ]
  },
  {
   "cell_type": "code",
   "execution_count": null,
   "metadata": {},
   "outputs": [],
   "source": [
    "hold_df = pd.DataFrame()\n",
    "for yr in range(1973, 1980):\n",
    "    print(yr)\n",
    "    tmp_df = get_appear(mlb_year=yr)\n",
    "    hold_df = hold_df.append(tmp_df)"
   ]
  },
  {
   "cell_type": "code",
   "execution_count": null,
   "metadata": {},
   "outputs": [],
   "source": [
    "# hold_df.to_csv('/Users/jonathanarmitage/Desktop/mlb_appear/mlb_appear_1973to1979.csv', index=False)"
   ]
  },
  {
   "cell_type": "code",
   "execution_count": null,
   "metadata": {
    "collapsed": true
   },
   "outputs": [],
   "source": []
  }
 ],
 "metadata": {
  "kernelspec": {
   "display_name": "Python 3",
   "language": "python",
   "name": "python3"
  },
  "language_info": {
   "codemirror_mode": {
    "name": "ipython",
    "version": 3
   },
   "file_extension": ".py",
   "mimetype": "text/x-python",
   "name": "python",
   "nbconvert_exporter": "python",
   "pygments_lexer": "ipython3",
   "version": "3.6.2"
  }
 },
 "nbformat": 4,
 "nbformat_minor": 2
}
